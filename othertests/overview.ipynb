{
 "metadata": {
  "name": "PyQuante Testing"
 },
 "nbformat": 3,
 "nbformat_minor": 0,
 "worksheets": [
  {
   "cells": [
    {
     "cell_type": "markdown",
     "metadata": {},
     "source": "# Development of PyQuante 2\nRick Muller, rpmuller@gmail.com\n\nI've been working on a rewrite of the PyQuante code, trying to get a more intuitive module structure and cleaner bindings of routines. The attached has some timing and other test results playing with the code. This isn't really meant as documentation or a gallery of pyquante2 features, but you can see some of them here.\n\nYou can fork the code from the [pyquante2 github site](https://github.com/rpmuller/pyquante2).\n\n## What's new?\nThere are more modules, and the source code is spread between multiple directories. However, the goal is to have all generally-used modules imported from the main top-level module:"
    },
    {
     "cell_type": "code",
     "collapsed": false,
     "input": "from pyquante2 import rhf,h2,h2o,c6h6,basisset",
     "language": "python",
     "metadata": {},
     "outputs": [],
     "prompt_number": 1
    },
    {
     "cell_type": "markdown",
     "metadata": {},
     "source": "Many modules have special printing functions to support IPython:"
    },
    {
     "cell_type": "code",
     "collapsed": false,
     "input": "h2o",
     "language": "python",
     "metadata": {},
     "outputs": [
      {
       "html": "<html><p><h2>Water</h2><p>Stoichiometry = H2O, Charge = 0, Multiplicity = 1</p><table><tr><th>#</th><th>Atno</th><th>Symbol</th><th>x</th><th>y</th><th>z</th></tr><tr><td>0</td><td>8</td><td>O</td><td>0.00000</td><td>0.00000</td><td>0.09169</td></tr><tr><td>1</td><td>1</td><td>H</td><td>1.42296</td><td>0.00000</td><td>-0.98120</td></tr><tr><td>2</td><td>1</td><td>H</td><td>-1.42296</td><td>0.00000</td><td>-0.98120</td></tr></table></p></html>",
       "output_type": "pyout",
       "prompt_number": 2,
       "text": "Stoichiometry = H2O, Charge = 0, Multiplicity = 1\n8 O     0.000000     0.000000     0.091685\n1 H     1.422960     0.000000    -0.981204\n1 H    -1.422960     0.000000    -0.981204"
      }
     ],
     "prompt_number": 2
    },
    {
     "cell_type": "code",
     "collapsed": false,
     "input": "c6h6",
     "language": "python",
     "metadata": {},
     "outputs": [
      {
       "html": "<html><p><h2>Benzene</h2><p>Stoichiometry = H6C6, Charge = 0, Multiplicity = 1</p><table><tr><th>#</th><th>Atno</th><th>Symbol</th><th>x</th><th>y</th><th>z</th></tr><tr><td>0</td><td>6</td><td>C</td><td>1.86582</td><td>1.86582</td><td>0.00000</td></tr><tr><td>1</td><td>6</td><td>C</td><td>2.54875</td><td>-0.68294</td><td>0.00000</td></tr><tr><td>2</td><td>6</td><td>C</td><td>0.68294</td><td>-2.54875</td><td>0.00000</td></tr><tr><td>3</td><td>6</td><td>C</td><td>-1.86582</td><td>-1.86582</td><td>0.00000</td></tr><tr><td>4</td><td>6</td><td>C</td><td>-2.54875</td><td>0.68294</td><td>0.00000</td></tr><tr><td>5</td><td>6</td><td>C</td><td>-0.68294</td><td>2.54875</td><td>0.00000</td></tr><tr><td>6</td><td>1</td><td>H</td><td>3.31743</td><td>3.31743</td><td>0.00000</td></tr><tr><td>7</td><td>1</td><td>H</td><td>4.53169</td><td>-1.21426</td><td>0.00000</td></tr><tr><td>8</td><td>1</td><td>H</td><td>1.21426</td><td>-4.53169</td><td>0.00000</td></tr><tr><td>9</td><td>1</td><td>H</td><td>-3.31743</td><td>-3.31743</td><td>0.00000</td></tr><tr><td>10</td><td>1</td><td>H</td><td>-4.53169</td><td>1.21426</td><td>0.00000</td></tr><tr><td>11</td><td>1</td><td>H</td><td>-1.21426</td><td>4.53169</td><td>0.00000</td></tr></table></p></html>",
       "output_type": "pyout",
       "prompt_number": 3,
       "text": "Stoichiometry = H6C6, Charge = 0, Multiplicity = 1\n6 C     1.865817     1.865817     0.000000\n6 C     2.548754    -0.682937     0.000000\n6 C     0.682937    -2.548754     0.000000\n6 C    -1.865817    -1.865817     0.000000\n6 C    -2.548754     0.682937     0.000000\n6 C    -0.682937     2.548754     0.000000\n1 H     3.317430     3.317430     0.000000\n1 H     4.531693    -1.214264     0.000000\n1 H     1.214264    -4.531693     0.000000\n1 H    -3.317430    -3.317430     0.000000\n1 H    -4.531693     1.214264     0.000000\n1 H    -1.214264     4.531693     0.000000"
      }
     ],
     "prompt_number": 3
    },
    {
     "cell_type": "markdown",
     "metadata": {},
     "source": "We also try to have decent printing for those objects:"
    },
    {
     "cell_type": "code",
     "collapsed": false,
     "input": "print c6h6",
     "language": "python",
     "metadata": {},
     "outputs": [
      {
       "output_type": "stream",
       "stream": "stdout",
       "text": "Stoichiometry = H6C6, Charge = 0, Multiplicity = 1\n6 C     1.865817     1.865817     0.000000\n6 C     2.548754    -0.682937     0.000000\n6 C     0.682937    -2.548754     0.000000\n6 C    -1.865817    -1.865817     0.000000\n6 C    -2.548754     0.682937     0.000000\n6 C    -0.682937     2.548754     0.000000\n1 H     3.317430     3.317430     0.000000\n1 H     4.531693    -1.214264     0.000000\n1 H     1.214264    -4.531693     0.000000\n1 H    -3.317430    -3.317430     0.000000\n1 H    -4.531693     1.214264     0.000000\n1 H    -1.214264     4.531693     0.000000\n"
      }
     ],
     "prompt_number": 4
    },
    {
     "cell_type": "markdown",
     "metadata": {},
     "source": "The solvers have decent printing as well:"
    },
    {
     "cell_type": "code",
     "collapsed": false,
     "input": "h2",
     "language": "python",
     "metadata": {},
     "outputs": [
      {
       "html": "<html><p><h2>Hydrogen</h2><p>Stoichiometry = H2, Charge = 0, Multiplicity = 1</p><table><tr><th>#</th><th>Atno</th><th>Symbol</th><th>x</th><th>y</th><th>z</th></tr><tr><td>0</td><td>1</td><td>H</td><td>0.00000</td><td>0.00000</td><td>0.69218</td></tr><tr><td>1</td><td>1</td><td>H</td><td>0.00000</td><td>0.00000</td><td>-0.69218</td></tr></table></p></html>",
       "output_type": "pyout",
       "prompt_number": 5,
       "text": "Stoichiometry = H2, Charge = 0, Multiplicity = 1\n1 H     0.000000     0.000000     0.692176\n1 H     0.000000     0.000000    -0.692176"
      }
     ],
     "prompt_number": 5
    },
    {
     "cell_type": "code",
     "collapsed": false,
     "input": "bfs = basisset(h2)\nbfs",
     "language": "python",
     "metadata": {},
     "outputs": [
      {
       "output_type": "pyout",
       "prompt_number": 6,
       "text": "cgbf((0.0, 0.0, 0.69217561132317929),(0, 0, 0),[3.42525091, 0.62391373, 0.1688554],[0.1543289707029839, 0.5353281424384733, 0.44463454202535485])\ncgbf((0.0, 0.0, -0.69217561132317929),(0, 0, 0),[3.42525091, 0.62391373, 0.1688554],[0.1543289707029839, 0.5353281424384733, 0.44463454202535485])"
      }
     ],
     "prompt_number": 6
    },
    {
     "cell_type": "code",
     "collapsed": false,
     "input": "solver = rhf(h2,bfs)\nsolver",
     "language": "python",
     "metadata": {},
     "outputs": [
      {
       "html": "<html><h2>RHF Hamiltonian</h2><p><h2>Hydrogen</h2><p>Stoichiometry = H2, Charge = 0, Multiplicity = 1</p><table><tr><th>#</th><th>Atno</th><th>Symbol</th><th>x</th><th>y</th><th>z</th></tr><tr><td>0</td><td>1</td><td>H</td><td>0.00000</td><td>0.00000</td><td>0.69218</td></tr><tr><td>1</td><td>1</td><td>H</td><td>0.00000</td><td>0.00000</td><td>-0.69218</td></tr></table></p><p>Basis set: sto3g, Nbf: 2</p><p>Status: Converged=False</p></html>",
       "output_type": "pyout",
       "prompt_number": 7,
       "text": "RHF Hamiltonian\nStoichiometry = H2, Charge = 0, Multiplicity = 1\n1 H     0.000000     0.000000     0.692176\n1 H     0.000000     0.000000    -0.692176\nBasis set: sto3g, Nbf: 2\nStatus: Converged = False"
      }
     ],
     "prompt_number": 7
    },
    {
     "cell_type": "code",
     "collapsed": false,
     "input": "solver.converge()\nsolver",
     "language": "python",
     "metadata": {},
     "outputs": [
      {
       "html": "<html><h2>RHF Hamiltonian</h2><p><h2>Hydrogen</h2><p>Stoichiometry = H2, Charge = 0, Multiplicity = 1</p><table><tr><th>#</th><th>Atno</th><th>Symbol</th><th>x</th><th>y</th><th>z</th></tr><tr><td>0</td><td>1</td><td>H</td><td>0.00000</td><td>0.00000</td><td>0.69218</td></tr><tr><td>1</td><td>1</td><td>H</td><td>0.00000</td><td>0.00000</td><td>-0.69218</td></tr></table></p><p>Basis set: sto3g, Nbf: 2</p><p>Status: Converged=True</p><table><tr><th>#</th><th>Energy</th></tr><tr /><td>0</td><td>0.48556</td><tr /><td>1</td><td>-1.11710</td></table></html>",
       "output_type": "pyout",
       "prompt_number": 8,
       "text": "RHF Hamiltonian\nStoichiometry = H2, Charge = 0, Multiplicity = 1\n1 H     0.000000     0.000000     0.692176\n1 H     0.000000     0.000000    -0.692176\nBasis set: sto3g, Nbf: 2\nStatus: Converged = True\n0  0.48556\n1  -1.11710"
      }
     ],
     "prompt_number": 8
    },
    {
     "cell_type": "code",
     "collapsed": false,
     "input": "print solver",
     "language": "python",
     "metadata": {},
     "outputs": [
      {
       "output_type": "stream",
       "stream": "stdout",
       "text": "RHF Hamiltonian\nStoichiometry = H2, Charge = 0, Multiplicity = 1\n1 H     0.000000     0.000000     0.692176\n1 H     0.000000     0.000000    -0.692176\nBasis set: sto3g, Nbf: 2\nStatus: Converged = True\n0  0.48556\n1  -1.11710\n"
      }
     ],
     "prompt_number": 9
    },
    {
     "cell_type": "markdown",
     "metadata": {},
     "source": "Simple orbital printing is built it:"
    },
    {
     "cell_type": "code",
     "collapsed": false,
     "input": "from pyquante2 import lineplot_orbs,contourplot,line",
     "language": "python",
     "metadata": {},
     "outputs": [],
     "prompt_number": 10
    },
    {
     "cell_type": "code",
     "collapsed": false,
     "input": "points = line((0,0,-5),(0,0,5))\nlineplot_orbs(points,solver.orbs[:,:2],bfs,\n    title=\"Plots of bonding and antibonding orbitals of H2\")",
     "language": "python",
     "metadata": {},
     "outputs": [
      {
       "output_type": "display_data",
       "png": "[encoded data removed]"
      }
     ],
     "prompt_number": 11
    },
    {
     "cell_type": "code",
     "collapsed": false,
     "input": "contourplot('yz',h2,solver.orbs[:,1],bfs,\n    title=\"Contours of H2 antibonding orbital\")",
     "language": "python",
     "metadata": {},
     "outputs": [
      {
       "output_type": "display_data",
       "png": "[encoded data removed]"
      }
     ],
     "prompt_number": 12
    },
    {
     "cell_type": "markdown",
     "metadata": {},
     "source": "## Iterators and convergence\nThe iterator throws an exception if convergence isn't achieved:"
    },
    {
     "cell_type": "code",
     "collapsed": false,
     "input": "solver = rhf(h2,basisset(h2))",
     "language": "python",
     "metadata": {},
     "outputs": [],
     "prompt_number": 13
    },
    {
     "cell_type": "code",
     "collapsed": false,
     "input": "solver",
     "language": "python",
     "metadata": {},
     "outputs": [
      {
       "html": "<html><h2>RHF Hamiltonian</h2><p><h2>Hydrogen</h2><p>Stoichiometry = H2, Charge = 0, Multiplicity = 1</p><table><tr><th>#</th><th>Atno</th><th>Symbol</th><th>x</th><th>y</th><th>z</th></tr><tr><td>0</td><td>1</td><td>H</td><td>0.00000</td><td>0.00000</td><td>0.69218</td></tr><tr><td>1</td><td>1</td><td>H</td><td>0.00000</td><td>0.00000</td><td>-0.69218</td></tr></table></p><p>Basis set: sto3g, Nbf: 2</p><p>Status: Converged=False</p></html>",
       "output_type": "pyout",
       "prompt_number": 14,
       "text": "RHF Hamiltonian\nStoichiometry = H2, Charge = 0, Multiplicity = 1\n1 H     0.000000     0.000000     0.692176\n1 H     0.000000     0.000000    -0.692176\nBasis set: sto3g, Nbf: 2\nStatus: Converged = False"
      }
     ],
     "prompt_number": 14
    },
    {
     "cell_type": "code",
     "collapsed": false,
     "input": "solver.converge(maxiters=1)",
     "language": "python",
     "metadata": {},
     "outputs": [
      {
       "output_type": "pyout",
       "prompt_number": 15,
       "text": "[0.48556025168474959]"
      }
     ],
     "prompt_number": 15
    },
    {
     "cell_type": "code",
     "collapsed": false,
     "input": "solver.energies",
     "language": "python",
     "metadata": {},
     "outputs": [
      {
       "output_type": "pyout",
       "prompt_number": 16,
       "text": "[0.48556025168474959]"
      }
     ],
     "prompt_number": 16
    },
    {
     "cell_type": "markdown",
     "metadata": {},
     "source": "## Comparing timings and results with v1"
    },
    {
     "cell_type": "code",
     "collapsed": false,
     "input": "import PyQuante, pyquante2",
     "language": "python",
     "metadata": {},
     "outputs": [],
     "prompt_number": 17
    },
    {
     "cell_type": "markdown",
     "metadata": {},
     "source": "Tests in the utils unit tests:"
    },
    {
     "cell_type": "code",
     "collapsed": false,
     "input": "print map(PyQuante.pyints.fact2,[0,1,3,8,-1]), map(pyquante2.utils.fact2,[0,1,3,8,-1])\nfor a,b in [(5,2),(10,5)]:\n    print PyQuante.pyints.binomial(a,b),pyquante2.utils.binomial(a,b)\nprint PyQuante.pyints.Fgamma(0,0),pyquante2.utils.Fgamma(0,0)",
     "language": "python",
     "metadata": {},
     "outputs": [
      {
       "output_type": "stream",
       "stream": "stdout",
       "text": "[1, 1, 3, 384, 1] [1, 1, 3, 384, 1]\n10 10\n252 252\n0.999999996667 1.0\n"
      }
     ],
     "prompt_number": 18
    },
    {
     "cell_type": "markdown",
     "metadata": {},
     "source": "## Test one-e integrals and pgbfs\nTests in the one.py unit tests:"
    },
    {
     "cell_type": "code",
     "collapsed": false,
     "input": "s1 = PyQuante.PGBF.PGBF(1,(0.,0.,0.))\ns2 = pyquante2.pgbf(1)\nprint s1.overlap(s1),pyquante2.S(s2,s2)\nprint s1.kinetic(s1),pyquante2.T(s2,s2)\nprint s1.nuclear(s1,(0,0,0)),pyquante2.V(s2,s2,(0,0,0))",
     "language": "python",
     "metadata": {},
     "outputs": [
      {
       "output_type": "stream",
       "stream": "stdout",
       "text": "1.0 1.0\n1.5 1.5\n-1.59576911629 -1.59576912161\n"
      }
     ],
     "prompt_number": 19
    },
    {
     "cell_type": "markdown",
     "metadata": {},
     "source": "Confused about the incomplete gamma function at small values. It would be nice to be able to use the scipy routines as a replacement, but they don't seem to give the same results across the board."
    },
    {
     "cell_type": "code",
     "collapsed": false,
     "input": "from pyquante2.utils import *\nfrom math import gamma\nfrom scipy.special import gammainc\nfor x in [0.1,2,3,4]:\n    print gamma(x),gammainc(x,1e-10),gammainc(x,1e10),gamm_inc(x,1e-10),gamm_inc(x,1e10)",
     "language": "python",
     "metadata": {},
     "outputs": [
      {
       "output_type": "stream",
       "stream": "stdout",
       "text": "9.51350769867 0.10511370061 1.0 0.999999999991 9.51350769867\n1.0 4.99999999967e-21 1.0 4.99999999967e-21 1.0\n2.0 1.66666666654e-31 1.0 3.33333333308e-31 2.0\n6.0 4.16666666633e-42 1.0 2.4999999998e-41 6.0\n"
      }
     ],
     "prompt_number": 20
    },
    {
     "cell_type": "markdown",
     "metadata": {},
     "source": "This doesn't make any sense.\n\n## Test cgbfs with one-e integrals:"
    },
    {
     "cell_type": "code",
     "collapsed": false,
     "input": "from PyQuante.CGBF import CGBF\nfrom pyquante2 import cgbf,S,T\nc1 = CGBF((0,0,0),(0,0,0))\nc1b = CGBF((0,0,1.0),(0,0,0))\nexps,coefs = [],[]\nfor ex,co in [(3.4252509099999999, 0.15432897000000001),\n           (0.62391373000000006, 0.53532813999999995),\n           (0.16885539999999999, 0.44463454000000002)]:\n    exps.append(ex)\n    coefs.append(co)\n    c1.add_primitive(ex,co)\n    c1b.add_primitive(ex,co)\nc1.normalize()\nc1b.normalize()\n\nc2 = cgbf(exps=exps,coefs=coefs)\nc2b = cgbf((0,0,1.0),exps=exps,coefs=coefs)\n\nprint \"Overlaps\"\nprint c1.overlap(c1), S(c2,c2)\nprint c1.overlap(c1b), S(c2,c2b)\n\nprint \"Kinetics\"\nprint c1.kinetic(c1), T(c2,c2)\nprint c1.kinetic(c1b), T(c2,c2b)",
     "language": "python",
     "metadata": {},
     "outputs": [
      {
       "output_type": "stream",
       "stream": "stdout",
       "text": "Overlaps\n1.0 1.0\n0.796588300697 0.796588300697\nKinetics\n0.760031883567 0.760031883567\n0.383253671655 0.383253671655\n"
      }
     ],
     "prompt_number": 21
    },
    {
     "cell_type": "markdown",
     "metadata": {},
     "source": "# Integral routines and timing:\n\n## Timing top level ERI routines"
    },
    {
     "cell_type": "code",
     "collapsed": false,
     "input": "s = pyquante2.pgbf(1)\nfrom pyquante2.ints import two,hgp\n%timeit two.ERI(s,s,s,s)",
     "language": "python",
     "metadata": {},
     "outputs": [
      {
       "output_type": "stream",
       "stream": "stdout",
       "text": "1000 loops, best of 3: 347 us per loop\n"
      }
     ],
     "prompt_number": 22
    },
    {
     "cell_type": "code",
     "collapsed": false,
     "input": "%timeit hgp.ERI_hgp(s,s,s,s)",
     "language": "python",
     "metadata": {},
     "outputs": [
      {
       "output_type": "stream",
       "stream": "stdout",
       "text": "1000 loops, best of 3: 238 us per loop\n"
      }
     ],
     "prompt_number": 23
    },
    {
     "cell_type": "code",
     "collapsed": false,
     "input": "from pyquante2 import ctwo\n%timeit ctwo.ERI(s,s,s,s)",
     "language": "python",
     "metadata": {},
     "outputs": [
      {
       "output_type": "stream",
       "stream": "stdout",
       "text": "100000 loops, best of 3: 6.54 us per loop\n"
      }
     ],
     "prompt_number": 24
    },
    {
     "cell_type": "code",
     "collapsed": false,
     "input": "%timeit ctwo.ERI_hgp(s,s,s,s)",
     "language": "python",
     "metadata": {},
     "outputs": [
      {
       "output_type": "stream",
       "stream": "stdout",
       "text": "100000 loops, best of 3: 4.98 us per loop\n"
      }
     ],
     "prompt_number": 25
    },
    {
     "cell_type": "markdown",
     "metadata": {},
     "source": "Nice speedup from Cython, but I had expected more relative speedup between hgp and the normal code. First run of this (little cython optimization) gave 4.4 us from ERI, and 3.84 from hgp. Python was 162 us."
    },
    {
     "cell_type": "markdown",
     "metadata": {},
     "source": "## Timing comparison for different vrr routines:"
    },
    {
     "cell_type": "code",
     "collapsed": false,
     "input": "from pyquante2.ctwo import ERI,ERI_hgp,vrr,vrr_recursive,vrr_nonrecursive\nfrom pyquante2.ints.hgp import vrr as pyvrr",
     "language": "python",
     "metadata": {},
     "outputs": [],
     "prompt_number": 26
    },
    {
     "cell_type": "code",
     "collapsed": false,
     "input": "zero = array([0,0,0],'d')\n%timeit pyvrr(zero,1.,(0,0,0),1.,zero,1.,1., zero,1.,(0,0,0),1.,zero,1.,1.,0)",
     "language": "python",
     "metadata": {},
     "outputs": [
      {
       "output_type": "stream",
       "stream": "stdout",
       "text": "1000 loops, best of 3: 214 us per loop\n"
      }
     ],
     "prompt_number": 27
    },
    {
     "cell_type": "code",
     "collapsed": false,
     "input": "%timeit vrr(0,0,0,1.,0,0,0,1.,0,0,0,1.,1.,0,0,0,1.,0,0,0,1.,0,0,0,1.,1.,0)",
     "language": "python",
     "metadata": {},
     "outputs": [
      {
       "output_type": "stream",
       "stream": "stdout",
       "text": "1000000 loops, best of 3: 1.67 us per loop\n"
      }
     ],
     "prompt_number": 28
    },
    {
     "cell_type": "code",
     "collapsed": false,
     "input": "%timeit vrr_recursive(0,0,0,1.,0,0,0,1.,0,0,0,1.,1.,0,0,0,1.,0,0,0,1.,0,0,0,1.,1.,0)",
     "language": "python",
     "metadata": {},
     "outputs": [
      {
       "output_type": "stream",
       "stream": "stdout",
       "text": "1000000 loops, best of 3: 1.87 us per loop\n"
      }
     ],
     "prompt_number": 29
    },
    {
     "cell_type": "code",
     "collapsed": false,
     "input": "%timeit vrr_nonrecursive(0,0,0,1.,0,0,0,1.,0,0,0,1.,1.,0,0,0,1.,0,0,0,1.,0,0,0,1.,1.,0)",
     "language": "python",
     "metadata": {},
     "outputs": [
      {
       "output_type": "stream",
       "stream": "stdout",
       "text": "1000000 loops, best of 3: 1.92 us per loop\n"
      }
     ],
     "prompt_number": 30
    },
    {
     "cell_type": "markdown",
     "metadata": {},
     "source": "Again, first time through I had expected more differences between the versions. The python version is 150 us, vrr was 1.21, and vrr_recursive was 1.26. For the added complexity of vrr (storing intermediate quantities) it almost seems worth it to go back to the recursive version.\n\nvrr is now set to the recursive version. I can remove the nonrecursive version if needed."
    },
    {
     "cell_type": "markdown",
     "metadata": {},
     "source": "## Comparison of old and new ERI code:\n\nPGBF code:"
    },
    {
     "cell_type": "code",
     "collapsed": false,
     "input": "from PyQuante.PGBF import coulomb\nfrom pyquante2.ctwo import ERI_hgp, ERI\n\ns1 = PyQuante.PGBF.PGBF(1,(0.,0.,0.))\ns2 = pyquante2.pgbf(1)\n\ns1b = PyQuante.PGBF.PGBF(1,(0.,0.,1.))\ns2b = pyquante2.pgbf(1,(0,0,1))\n\n%timeit coulomb(s1,s1,s1,s1)\n%timeit ERI_hgp(s2,s2,s2,s2)\nprint coulomb(s1,s1,s1,s1), ERI_hgp(s2,s2,s2,s2)\nprint coulomb(s1,s1,s1b,s1b), ERI_hgp(s2,s2,s2b,s2b), ERI(s2,s2,s2b,s2b)\nprint coulomb(s1,s1b,s1,s1b), ERI_hgp(s2,s2b,s2,s2b), ERI(s2,s2b,s2,s2b)",
     "language": "python",
     "metadata": {},
     "outputs": [
      {
       "output_type": "stream",
       "stream": "stdout",
       "text": "100000 loops, best of 3: 5.22 us per loop\n100000 loops, best of 3: 6.05 us per loop"
      },
      {
       "output_type": "stream",
       "stream": "stdout",
       "text": "\n1.12837916333 1.12837916333\n0.842700790029 0.842700790029 0.842700790029\n0.415107496037 0.415107496037 0.415107496037\n"
      }
     ],
     "prompt_number": 31
    },
    {
     "cell_type": "markdown",
     "metadata": {},
     "source": "The new routines run at the same speed, which isn't altogether surprising, but it's nice to know I haven't lost anything due to the Cython wrappers.\n\nCGBF code:"
    },
    {
     "cell_type": "code",
     "collapsed": false,
     "input": "from PyQuante.CGBF import CGBF,coulomb\nfrom pyquante2 import cgbf\nfrom pyquante2.ctwo import ERI_hgp\n\nc1 = CGBF((0,0,0),(0,0,0))\nc1b = CGBF((0,0,1.0),(0,0,0))\nexps,coefs = [],[]\nfor ex,co in [(3.4252509099999999, 0.15432897000000001),\n           (0.62391373000000006, 0.53532813999999995),\n           (0.16885539999999999, 0.44463454000000002)]:\n    exps.append(ex)\n    coefs.append(co)\n    c1.add_primitive(ex,co)\n    c1b.add_primitive(ex,co)\nc1.normalize()\nc1b.normalize()\n\nc2 = cgbf(exps=exps,coefs=coefs)\nc2b = cgbf((0,0,1.0),exps=exps,coefs=coefs)\n\n%timeit coulomb(c1,c1,c1,c1)\n%timeit ERI_hgp(c2,c2,c2,c2)\n%timeit ERI(c2,c2,c2,c2)\nprint coulomb(c1,c1,c1,c1), ERI_hgp(c2,c2,c2,c2)\nprint coulomb(c1,c1,c1b,c1b), ERI_hgp(c2,c2,c2b,c2b)\nprint coulomb(c1,c1b,c1,c1b), ERI_hgp(c2,c2b,c2,c2b)",
     "language": "python",
     "metadata": {},
     "outputs": [
      {
       "output_type": "stream",
       "stream": "stdout",
       "text": "10000 loops, best of 3: 49.4 us per loop\n10000 loops, best of 3: 41.4 us per loop"
      },
      {
       "output_type": "stream",
       "stream": "stdout",
       "text": "\n1000 loops, best of 3: 1.22 ms per loop"
      },
      {
       "output_type": "stream",
       "stream": "stdout",
       "text": "\n0.774605941338 0.774605941338\n0.650177460815 0.650177460815\n0.455901518744 0.455901518744\n"
      }
     ],
     "prompt_number": 32
    },
    {
     "cell_type": "markdown",
     "metadata": {},
     "source": "# SCF examples:\n\n## LiH, STO-3G"
    },
    {
     "cell_type": "code",
     "collapsed": false,
     "input": "from PyQuante.Ints import getbasis,getints,getT,getV\nfrom PyQuante.hartree_fock import rhf\nfrom PyQuante.Molecule import Molecule\n\nLiH = Molecule('lih',\n                 [(3,( .0000000000, .0000000000, .0000000000)),\n                  (1,( .0000000000, .0000000000,1.629912))],\n                 units='Angstroms')\nbfs = getbasis(LiH,'sto-3g')\nnbf = len(bfs)\nnocc,nopen = LiH.get_closedopen()\nassert nopen==0\nS,h,Ints = getints(bfs,LiH)\nen,orbe,orbs = rhf(LiH,integrals=(S,h,Ints),verbose=True)\nprint \"SCF completed, E = \",en \nprint \"S = \\n\",S\nprint \"h = \\n\",h\nprint \"I2 = \\n\",Ints[:5]",
     "language": "python",
     "metadata": {},
     "outputs": [
      {
       "output_type": "stream",
       "stream": "stdout",
       "text": "SCF completed, E =  -7.86073576968\nS = \n[[ 1.          0.24113665  0.          0.          0.          0.06239818]\n [ 0.24113665  1.          0.          0.          0.          0.38780341]\n [ 0.          0.          1.          0.          0.          0.        ]\n [ 0.          0.          0.          1.          0.          0.        ]\n [ 0.          0.          0.          0.          1.          0.50716955]\n [ 0.06239818  0.38780341  0.          0.          0.50716955  1.        ]]\nh = \n[[-4.73076107 -1.06286658  0.          0.         -0.01551519 -0.28307001]\n [-1.06286658 -1.39257572  0.          0.         -0.12049949 -0.67475424]\n [ 0.          0.         -1.13302238  0.          0.          0.        ]\n [ 0.          0.          0.         -1.13302238  0.          0.        ]\n [-0.01551519 -0.12049949  0.          0.         -1.22977649 -0.82314252]\n [-0.28307001 -0.67475424  0.          0.         -0.82314252 -1.43835583]]\nI2 = \narray('d', [1.6803951639324308, 0.26542036372307215, 0.049941457073764725, 0.39772685976397343, 0.09286014333241713])\n"
      }
     ],
     "prompt_number": 33
    },
    {
     "cell_type": "code",
     "collapsed": false,
     "input": "from PyQuante.TestMolecules import h2o\nbfs = getbasis(h2o,'sto-3g')\nnbf = len(bfs)\nS,h,Ints = getints(bfs,h2o)\nen,orbe,orbs = rhf(h2o,integrals=(S,h,Ints),verbose=True)\nprint \"SCF completed, E = \",en \nprint \"S = \\n\",S\nprint \"h = \\n\",h\nprint \"I2 = \\n\",Ints[:5]\n",
     "language": "python",
     "metadata": {},
     "outputs": [
      {
       "output_type": "stream",
       "stream": "stdout",
       "text": "SCF completed, E =  -74.9598407887\nS = \n[[  1.00000000e+00   2.36703937e-01   0.00000000e+00   0.00000000e+00\n   -3.95628520e-18   5.58181517e-02   5.58181517e-02]\n [  2.36703937e-01   1.00000000e+00   0.00000000e+00   0.00000000e+00\n   -6.93671951e-18   4.84133479e-01   4.84133479e-01]\n [  0.00000000e+00   0.00000000e+00   1.00000000e+00   0.00000000e+00\n    0.00000000e+00   3.18049483e-01  -3.18049483e-01]\n [  0.00000000e+00   0.00000000e+00   0.00000000e+00   1.00000000e+00\n    0.00000000e+00   0.00000000e+00   0.00000000e+00]\n [ -3.95628520e-18  -6.93671951e-18   0.00000000e+00   0.00000000e+00\n    1.00000000e+00  -2.39804296e-01  -2.39804296e-01]\n [  5.58181517e-02   4.84133479e-01   3.18049483e-01   0.00000000e+00\n   -2.39804296e-01   1.00000000e+00   2.54586613e-01]\n [  5.58181517e-02   4.84133479e-01  -3.18049483e-01   0.00000000e+00\n   -2.39804296e-01   2.54586613e-01   1.00000000e+00]]\nh = \n[[ -3.27375153e+01  -7.61673386e+00   0.00000000e+00   0.00000000e+00\n    1.92563167e-02  -1.81001390e+00  -1.81001390e+00]\n [ -7.61673386e+00  -9.34981296e+00   0.00000000e+00   0.00000000e+00\n    2.25272914e-01  -3.83196154e+00  -3.83196154e+00]\n [  0.00000000e+00   0.00000000e+00  -7.63461067e+00   0.00000000e+00\n    0.00000000e+00  -2.08476894e+00   2.08476894e+00]\n [  0.00000000e+00   0.00000000e+00   0.00000000e+00  -7.46989436e+00\n    0.00000000e+00   0.00000000e+00   0.00000000e+00]\n [  1.92563167e-02   2.25272914e-01   0.00000000e+00   0.00000000e+00\n   -7.56353430e+00   1.64578178e+00   1.64578178e+00]\n [ -1.81001390e+00  -3.83196154e+00  -2.08476894e+00   0.00000000e+00\n    1.64578178e+00  -5.13309366e+00  -1.64475717e+00]\n [ -1.81001390e+00  -3.83196154e+00   2.08476894e+00   0.00000000e+00\n    1.64578178e+00  -1.64475717e+00  -5.13309366e+00]]\nI2 = \narray('d', [4.785065388755281, 0.7413803495021389, 0.13687338489814346, 1.1189468626126458, 0.2566333938755287])\n"
      }
     ],
     "prompt_number": 34
    },
    {
     "cell_type": "code",
     "collapsed": false,
     "input": "from pyquante2 import molecule,lih,basisset,rhf\nfrom pyquante2.ints.integrals import onee_integrals,twoe_integrals\nfrom pyquante2.utils import dmat,trace2,geigh\n\nlih = molecule([\n    (3,.0000000000, .0000000000, .0000000000),\n    (1, .0000000000, .0000000000,1.629912)],\n    units='Angstroms')\n\nbfs = basisset(lih,'sto3g')\n\ni1 = onee_integrals(bfs,lih)\ni2 = twoe_integrals(bfs)\nprint \"S = \\n\",i1.S\nprint \"h = \\n\",i1.T + i1.V\nprint \"I2 = \\n\",i2._2e_ints[:5]\ns = rhf(lih,bfs)\ns.converge()",
     "language": "python",
     "metadata": {},
     "outputs": [
      {
       "output_type": "stream",
       "stream": "stdout",
       "text": "S = \n[[ 1.          0.24113665  0.          0.          0.          0.06239931]\n [ 0.24113665  1.          0.          0.          0.          0.38780552]\n [ 0.          0.          1.          0.          0.          0.        ]\n [ 0.          0.          0.          1.          0.          0.        ]\n [ 0.          0.          0.          0.          1.          0.50717121]\n [ 0.06239931  0.38780552  0.          0.          0.50717121  1.        ]]\nh = \n[[-4.73076276 -1.06286698  0.          0.         -0.01551535 -0.28307525]\n [-1.06286698 -1.39257664  0.          0.         -0.12049997 -0.67475941]\n [ 0.          0.         -1.13302317  0.          0.          0.        ]\n [ 0.          0.          0.         -1.13302317  0.          0.        ]\n [-0.01551535 -0.12049997  0.          0.         -1.22977768 -0.82314683]\n [-0.28307525 -0.67475941  0.          0.         -0.82314683 -1.4383608 ]]\nI2 = \n[[[[  1.68039516e+00   2.65420364e-01   0.00000000e+00   0.00000000e+00\n      0.00000000e+00   6.67460269e-02]\n   [  2.65420364e-01   3.97726860e-01   0.00000000e+00   0.00000000e+00\n      0.00000000e+00   1.45977260e-01]\n   [  0.00000000e+00   0.00000000e+00   3.96639641e-01   0.00000000e+00\n      0.00000000e+00   0.00000000e+00]\n   [  0.00000000e+00   0.00000000e+00   0.00000000e+00   3.96639641e-01\n      0.00000000e+00   0.00000000e+00]\n   [  0.00000000e+00   0.00000000e+00   0.00000000e+00   0.00000000e+00\n      3.96639641e-01   1.77730867e-01]\n   [  6.67460269e-02   1.45977260e-01   0.00000000e+00   0.00000000e+00\n      1.77730867e-01   3.23596627e-01]]\n\n  [[  2.65420364e-01   4.99414571e-02   0.00000000e+00   0.00000000e+00\n      0.00000000e+00   1.26228730e-02]\n   [  4.99414571e-02   9.28601433e-02   0.00000000e+00   0.00000000e+00\n      0.00000000e+00   3.44386672e-02]\n   [  0.00000000e+00   0.00000000e+00   9.28803966e-02   0.00000000e+00\n      0.00000000e+00   0.00000000e+00]\n   [  0.00000000e+00   0.00000000e+00   0.00000000e+00   9.28803966e-02\n      0.00000000e+00   0.00000000e+00]\n   [  0.00000000e+00   0.00000000e+00   0.00000000e+00   0.00000000e+00\n      9.28803966e-02   4.23962450e-02]\n   [  1.26228730e-02   3.44386672e-02   0.00000000e+00   0.00000000e+00\n      4.23962450e-02   7.77132412e-02]]\n\n  [[  0.00000000e+00   0.00000000e+00   8.98131923e-03   0.00000000e+00\n      0.00000000e+00   0.00000000e+00]\n   [  0.00000000e+00   0.00000000e+00   1.37882688e-02   0.00000000e+00\n      0.00000000e+00   0.00000000e+00]\n   [  8.98131923e-03   1.37882688e-02   0.00000000e+00   0.00000000e+00\n      0.00000000e+00   2.86733880e-03]\n   [  0.00000000e+00   0.00000000e+00   0.00000000e+00   0.00000000e+00\n      0.00000000e+00   0.00000000e+00]\n   [  0.00000000e+00   0.00000000e+00   0.00000000e+00   0.00000000e+00\n      0.00000000e+00   0.00000000e+00]\n   [  0.00000000e+00   0.00000000e+00   2.86733880e-03   0.00000000e+00\n      0.00000000e+00   0.00000000e+00]]\n\n  [[  0.00000000e+00   0.00000000e+00   0.00000000e+00   8.98131923e-03\n      0.00000000e+00   0.00000000e+00]\n   [  0.00000000e+00   0.00000000e+00   0.00000000e+00   1.37882688e-02\n      0.00000000e+00   0.00000000e+00]\n   [  0.00000000e+00   0.00000000e+00   0.00000000e+00   0.00000000e+00\n      0.00000000e+00   0.00000000e+00]\n   [  8.98131923e-03   1.37882688e-02   0.00000000e+00   0.00000000e+00\n      0.00000000e+00   2.86733880e-03]\n   [  0.00000000e+00   0.00000000e+00   0.00000000e+00   0.00000000e+00\n      0.00000000e+00   0.00000000e+00]\n   [  0.00000000e+00   0.00000000e+00   0.00000000e+00   2.86733880e-03\n      0.00000000e+00   0.00000000e+00]]\n\n  [[  0.00000000e+00   0.00000000e+00   0.00000000e+00   0.00000000e+00\n      8.98131923e-03   1.49253636e-03]\n   [  0.00000000e+00   0.00000000e+00   0.00000000e+00   0.00000000e+00\n      1.37882688e-02   5.61064034e-03]\n   [  0.00000000e+00   0.00000000e+00   0.00000000e+00   0.00000000e+00\n      0.00000000e+00   0.00000000e+00]\n   [  0.00000000e+00   0.00000000e+00   0.00000000e+00   0.00000000e+00\n      0.00000000e+00   0.00000000e+00]\n   [  8.98131923e-03   1.37882688e-02   0.00000000e+00   0.00000000e+00\n      0.00000000e+00   8.72195152e-03]\n   [  1.49253636e-03   5.61064034e-03   0.00000000e+00   0.00000000e+00\n      8.72195152e-03   1.47614365e-02]]\n\n  [[  6.67460269e-02   1.26228730e-02   0.00000000e+00   0.00000000e+00\n      1.49253636e-03   3.48752569e-03]\n   [  1.26228730e-02   2.38897188e-02   0.00000000e+00   0.00000000e+00\n      2.89165611e-03   1.03806824e-02]\n   [  0.00000000e+00   0.00000000e+00   2.36090454e-02   0.00000000e+00\n      0.00000000e+00   0.00000000e+00]\n   [  0.00000000e+00   0.00000000e+00   0.00000000e+00   2.36090454e-02\n      0.00000000e+00   0.00000000e+00]\n   [  1.49253636e-03   2.89165611e-03   0.00000000e+00   0.00000000e+00\n      2.44619671e-02   1.33296474e-02]\n   [  3.48752569e-03   1.03806824e-02   0.00000000e+00   0.00000000e+00\n      1.33296474e-02   2.45457394e-02]]]\n\n\n [[[  2.65420364e-01   4.99414571e-02   0.00000000e+00   0.00000000e+00\n      0.00000000e+00   1.26228730e-02]\n   [  4.99414571e-02   9.28601433e-02   0.00000000e+00   0.00000000e+00\n      0.00000000e+00   3.44386672e-02]\n   [  0.00000000e+00   0.00000000e+00   9.28803966e-02   0.00000000e+00\n      0.00000000e+00   0.00000000e+00]\n   [  0.00000000e+00   0.00000000e+00   0.00000000e+00   9.28803966e-02\n      0.00000000e+00   0.00000000e+00]\n   [  0.00000000e+00   0.00000000e+00   0.00000000e+00   0.00000000e+00\n      9.28803966e-02   4.23962450e-02]\n   [  1.26228730e-02   3.44386672e-02   0.00000000e+00   0.00000000e+00\n      4.23962450e-02   7.77132412e-02]]\n\n  [[  3.97726860e-01   9.28601433e-02   0.00000000e+00   0.00000000e+00\n      0.00000000e+00   2.38897188e-02]\n   [  9.28601433e-02   2.90562294e-01   0.00000000e+00   0.00000000e+00\n      0.00000000e+00   1.12630635e-01]\n   [  0.00000000e+00   0.00000000e+00   2.90496975e-01   0.00000000e+00\n      0.00000000e+00   0.00000000e+00]\n   [  0.00000000e+00   0.00000000e+00   0.00000000e+00   2.90496975e-01\n      0.00000000e+00   0.00000000e+00]\n   [  0.00000000e+00   0.00000000e+00   0.00000000e+00   0.00000000e+00\n      2.90496975e-01   1.44016166e-01]\n   [  2.38897188e-02   1.12630635e-01   0.00000000e+00   0.00000000e+00\n      1.44016166e-01   2.78154454e-01]]\n\n  [[  0.00000000e+00   0.00000000e+00   1.37882688e-02   0.00000000e+00\n      0.00000000e+00   0.00000000e+00]\n   [  0.00000000e+00   0.00000000e+00   6.41843282e-02   0.00000000e+00\n      0.00000000e+00   0.00000000e+00]\n   [  1.37882688e-02   6.41843282e-02   0.00000000e+00   0.00000000e+00\n      0.00000000e+00   1.30566993e-02]\n   [  0.00000000e+00   0.00000000e+00   0.00000000e+00   0.00000000e+00\n      0.00000000e+00   0.00000000e+00]\n   [  0.00000000e+00   0.00000000e+00   0.00000000e+00   0.00000000e+00\n      0.00000000e+00   0.00000000e+00]\n   [  0.00000000e+00   0.00000000e+00   1.30566993e-02   0.00000000e+00\n      0.00000000e+00   0.00000000e+00]]\n\n  [[  0.00000000e+00   0.00000000e+00   0.00000000e+00   1.37882688e-02\n      0.00000000e+00   0.00000000e+00]\n   [  0.00000000e+00   0.00000000e+00   0.00000000e+00   6.41843282e-02\n      0.00000000e+00   0.00000000e+00]\n   [  0.00000000e+00   0.00000000e+00   0.00000000e+00   0.00000000e+00\n      0.00000000e+00   0.00000000e+00]\n   [  1.37882688e-02   6.41843282e-02   0.00000000e+00   0.00000000e+00\n      0.00000000e+00   1.30566993e-02]\n   [  0.00000000e+00   0.00000000e+00   0.00000000e+00   0.00000000e+00\n      0.00000000e+00   0.00000000e+00]\n   [  0.00000000e+00   0.00000000e+00   0.00000000e+00   1.30566993e-02\n      0.00000000e+00   0.00000000e+00]]\n\n  [[  0.00000000e+00   0.00000000e+00   0.00000000e+00   0.00000000e+00\n      1.37882688e-02   2.89165611e-03]\n   [  0.00000000e+00   0.00000000e+00   0.00000000e+00   0.00000000e+00\n      6.41843282e-02   3.30528301e-02]\n   [  0.00000000e+00   0.00000000e+00   0.00000000e+00   0.00000000e+00\n      0.00000000e+00   0.00000000e+00]\n   [  0.00000000e+00   0.00000000e+00   0.00000000e+00   0.00000000e+00\n      0.00000000e+00   0.00000000e+00]\n   [  1.37882688e-02   6.41843282e-02   0.00000000e+00   0.00000000e+00\n      0.00000000e+00   5.05803326e-02]\n   [  2.89165611e-03   3.30528301e-02   0.00000000e+00   0.00000000e+00\n      5.05803326e-02   1.04756020e-01]]\n\n  [[  1.45977260e-01   3.44386672e-02   0.00000000e+00   0.00000000e+00\n      5.61064034e-03   1.03806824e-02]\n   [  3.44386672e-02   1.12630635e-01   0.00000000e+00   0.00000000e+00\n      3.30528301e-02   7.09163009e-02]\n   [  0.00000000e+00   0.00000000e+00   1.06969865e-01   0.00000000e+00\n      0.00000000e+00   0.00000000e+00]\n   [  0.00000000e+00   0.00000000e+00   0.00000000e+00   1.06969865e-01\n      0.00000000e+00   0.00000000e+00]\n   [  5.61064034e-03   3.30528301e-02   0.00000000e+00   0.00000000e+00\n      1.23834010e-01   9.95709532e-02]\n   [  1.03806824e-02   7.09163009e-02   0.00000000e+00   0.00000000e+00\n      9.95709532e-02   2.17355090e-01]]]\n\n\n [[[  0.00000000e+00   0.00000000e+00   8.98131923e-03   0.00000000e+00\n      0.00000000e+00   0.00000000e+00]\n   [  0.00000000e+00   0.00000000e+00   1.37882688e-02   0.00000000e+00\n      0.00000000e+00   0.00000000e+00]\n   [  8.98131923e-03   1.37882688e-02   0.00000000e+00   0.00000000e+00\n      0.00000000e+00   2.86733880e-03]\n   [  0.00000000e+00   0.00000000e+00   0.00000000e+00   0.00000000e+00\n      0.00000000e+00   0.00000000e+00]\n   [  0.00000000e+00   0.00000000e+00   0.00000000e+00   0.00000000e+00\n      0.00000000e+00   0.00000000e+00]\n   [  0.00000000e+00   0.00000000e+00   2.86733880e-03   0.00000000e+00\n      0.00000000e+00   0.00000000e+00]]\n\n  [[  0.00000000e+00   0.00000000e+00   1.37882688e-02   0.00000000e+00\n      0.00000000e+00   0.00000000e+00]\n   [  0.00000000e+00   0.00000000e+00   6.41843282e-02   0.00000000e+00\n      0.00000000e+00   0.00000000e+00]\n   [  1.37882688e-02   6.41843282e-02   0.00000000e+00   0.00000000e+00\n      0.00000000e+00   1.30566993e-02]\n   [  0.00000000e+00   0.00000000e+00   0.00000000e+00   0.00000000e+00\n      0.00000000e+00   0.00000000e+00]\n   [  0.00000000e+00   0.00000000e+00   0.00000000e+00   0.00000000e+00\n      0.00000000e+00   0.00000000e+00]\n   [  0.00000000e+00   0.00000000e+00   1.30566993e-02   0.00000000e+00\n      0.00000000e+00   0.00000000e+00]]\n\n  [[  3.96639641e-01   9.28803966e-02   0.00000000e+00   0.00000000e+00\n      0.00000000e+00   2.36090454e-02]\n   [  9.28803966e-02   2.90496975e-01   0.00000000e+00   0.00000000e+00\n      0.00000000e+00   1.06969865e-01]\n   [  0.00000000e+00   0.00000000e+00   3.12945510e-01   0.00000000e+00\n      0.00000000e+00   0.00000000e+00]\n   [  0.00000000e+00   0.00000000e+00   0.00000000e+00   2.79207231e-01\n      0.00000000e+00   0.00000000e+00]\n   [  0.00000000e+00   0.00000000e+00   0.00000000e+00   0.00000000e+00\n      2.79207231e-01   1.34348349e-01]\n   [  2.36090454e-02   1.06969865e-01   0.00000000e+00   0.00000000e+00\n      1.34348349e-01   2.53941149e-01]]\n\n  [[  0.00000000e+00   0.00000000e+00   0.00000000e+00   0.00000000e+00\n      0.00000000e+00   0.00000000e+00]\n   [  0.00000000e+00   0.00000000e+00   0.00000000e+00   0.00000000e+00\n      0.00000000e+00   0.00000000e+00]\n   [  0.00000000e+00   0.00000000e+00   0.00000000e+00   1.68691394e-02\n      0.00000000e+00   0.00000000e+00]\n   [  0.00000000e+00   0.00000000e+00   1.68691394e-02   0.00000000e+00\n      0.00000000e+00   0.00000000e+00]\n   [  0.00000000e+00   0.00000000e+00   0.00000000e+00   0.00000000e+00\n      0.00000000e+00   0.00000000e+00]\n   [  0.00000000e+00   0.00000000e+00   0.00000000e+00   0.00000000e+00\n      0.00000000e+00   0.00000000e+00]]\n\n  [[  0.00000000e+00   0.00000000e+00   0.00000000e+00   0.00000000e+00\n      0.00000000e+00   0.00000000e+00]\n   [  0.00000000e+00   0.00000000e+00   0.00000000e+00   0.00000000e+00\n      0.00000000e+00   0.00000000e+00]\n   [  0.00000000e+00   0.00000000e+00   0.00000000e+00   0.00000000e+00\n      1.68691394e-02   5.18541969e-03]\n   [  0.00000000e+00   0.00000000e+00   0.00000000e+00   0.00000000e+00\n      0.00000000e+00   0.00000000e+00]\n   [  0.00000000e+00   0.00000000e+00   1.68691394e-02   0.00000000e+00\n      0.00000000e+00   0.00000000e+00]\n   [  0.00000000e+00   0.00000000e+00   5.18541969e-03   0.00000000e+00\n      0.00000000e+00   0.00000000e+00]]\n\n  [[  0.00000000e+00   0.00000000e+00   2.86733880e-03   0.00000000e+00\n      0.00000000e+00   0.00000000e+00]\n   [  0.00000000e+00   0.00000000e+00   1.30566993e-02   0.00000000e+00\n      0.00000000e+00   0.00000000e+00]\n   [  2.86733880e-03   1.30566993e-02   0.00000000e+00   0.00000000e+00\n      5.18541969e-03   5.28151702e-03]\n   [  0.00000000e+00   0.00000000e+00   0.00000000e+00   0.00000000e+00\n      0.00000000e+00   0.00000000e+00]\n   [  0.00000000e+00   0.00000000e+00   5.18541969e-03   0.00000000e+00\n      0.00000000e+00   0.00000000e+00]\n   [  0.00000000e+00   0.00000000e+00   5.28151702e-03   0.00000000e+00\n      0.00000000e+00   0.00000000e+00]]]\n\n\n [[[  0.00000000e+00   0.00000000e+00   0.00000000e+00   8.98131923e-03\n      0.00000000e+00   0.00000000e+00]\n   [  0.00000000e+00   0.00000000e+00   0.00000000e+00   1.37882688e-02\n      0.00000000e+00   0.00000000e+00]\n   [  0.00000000e+00   0.00000000e+00   0.00000000e+00   0.00000000e+00\n      0.00000000e+00   0.00000000e+00]\n   [  8.98131923e-03   1.37882688e-02   0.00000000e+00   0.00000000e+00\n      0.00000000e+00   2.86733880e-03]\n   [  0.00000000e+00   0.00000000e+00   0.00000000e+00   0.00000000e+00\n      0.00000000e+00   0.00000000e+00]\n   [  0.00000000e+00   0.00000000e+00   0.00000000e+00   2.86733880e-03\n      0.00000000e+00   0.00000000e+00]]\n\n  [[  0.00000000e+00   0.00000000e+00   0.00000000e+00   1.37882688e-02\n      0.00000000e+00   0.00000000e+00]\n   [  0.00000000e+00   0.00000000e+00   0.00000000e+00   6.41843282e-02\n      0.00000000e+00   0.00000000e+00]\n   [  0.00000000e+00   0.00000000e+00   0.00000000e+00   0.00000000e+00\n      0.00000000e+00   0.00000000e+00]\n   [  1.37882688e-02   6.41843282e-02   0.00000000e+00   0.00000000e+00\n      0.00000000e+00   1.30566993e-02]\n   [  0.00000000e+00   0.00000000e+00   0.00000000e+00   0.00000000e+00\n      0.00000000e+00   0.00000000e+00]\n   [  0.00000000e+00   0.00000000e+00   0.00000000e+00   1.30566993e-02\n      0.00000000e+00   0.00000000e+00]]\n\n  [[  0.00000000e+00   0.00000000e+00   0.00000000e+00   0.00000000e+00\n      0.00000000e+00   0.00000000e+00]\n   [  0.00000000e+00   0.00000000e+00   0.00000000e+00   0.00000000e+00\n      0.00000000e+00   0.00000000e+00]\n   [  0.00000000e+00   0.00000000e+00   0.00000000e+00   1.68691394e-02\n      0.00000000e+00   0.00000000e+00]\n   [  0.00000000e+00   0.00000000e+00   1.68691394e-02   0.00000000e+00\n      0.00000000e+00   0.00000000e+00]\n   [  0.00000000e+00   0.00000000e+00   0.00000000e+00   0.00000000e+00\n      0.00000000e+00   0.00000000e+00]\n   [  0.00000000e+00   0.00000000e+00   0.00000000e+00   0.00000000e+00\n      0.00000000e+00   0.00000000e+00]]\n\n  [[  3.96639641e-01   9.28803966e-02   0.00000000e+00   0.00000000e+00\n      0.00000000e+00   2.36090454e-02]\n   [  9.28803966e-02   2.90496975e-01   0.00000000e+00   0.00000000e+00\n      0.00000000e+00   1.06969865e-01]\n   [  0.00000000e+00   0.00000000e+00   2.79207231e-01   0.00000000e+00\n      0.00000000e+00   0.00000000e+00]\n   [  0.00000000e+00   0.00000000e+00   0.00000000e+00   3.12945510e-01\n      0.00000000e+00   0.00000000e+00]\n   [  0.00000000e+00   0.00000000e+00   0.00000000e+00   0.00000000e+00\n      2.79207231e-01   1.34348349e-01]\n   [  2.36090454e-02   1.06969865e-01   0.00000000e+00   0.00000000e+00\n      1.34348349e-01   2.53941149e-01]]\n\n  [[  0.00000000e+00   0.00000000e+00   0.00000000e+00   0.00000000e+00\n      0.00000000e+00   0.00000000e+00]\n   [  0.00000000e+00   0.00000000e+00   0.00000000e+00   0.00000000e+00\n      0.00000000e+00   0.00000000e+00]\n   [  0.00000000e+00   0.00000000e+00   0.00000000e+00   0.00000000e+00\n      0.00000000e+00   0.00000000e+00]\n   [  0.00000000e+00   0.00000000e+00   0.00000000e+00   0.00000000e+00\n      1.68691394e-02   5.18541969e-03]\n   [  0.00000000e+00   0.00000000e+00   0.00000000e+00   1.68691394e-02\n      0.00000000e+00   0.00000000e+00]\n   [  0.00000000e+00   0.00000000e+00   0.00000000e+00   5.18541969e-03\n      0.00000000e+00   0.00000000e+00]]\n\n  [[  0.00000000e+00   0.00000000e+00   0.00000000e+00   2.86733880e-03\n      0.00000000e+00   0.00000000e+00]\n   [  0.00000000e+00   0.00000000e+00   0.00000000e+00   1.30566993e-02\n      0.00000000e+00   0.00000000e+00]\n   [  0.00000000e+00   0.00000000e+00   0.00000000e+00   0.00000000e+00\n      0.00000000e+00   0.00000000e+00]\n   [  2.86733880e-03   1.30566993e-02   0.00000000e+00   0.00000000e+00\n      5.18541969e-03   5.28151702e-03]\n   [  0.00000000e+00   0.00000000e+00   0.00000000e+00   5.18541969e-03\n      0.00000000e+00   0.00000000e+00]\n   [  0.00000000e+00   0.00000000e+00   0.00000000e+00   5.28151702e-03\n      0.00000000e+00   0.00000000e+00]]]\n\n\n [[[  0.00000000e+00   0.00000000e+00   0.00000000e+00   0.00000000e+00\n      8.98131923e-03   1.49253636e-03]\n   [  0.00000000e+00   0.00000000e+00   0.00000000e+00   0.00000000e+00\n      1.37882688e-02   5.61064034e-03]\n   [  0.00000000e+00   0.00000000e+00   0.00000000e+00   0.00000000e+00\n      0.00000000e+00   0.00000000e+00]\n   [  0.00000000e+00   0.00000000e+00   0.00000000e+00   0.00000000e+00\n      0.00000000e+00   0.00000000e+00]\n   [  8.98131923e-03   1.37882688e-02   0.00000000e+00   0.00000000e+00\n      0.00000000e+00   8.72195152e-03]\n   [  1.49253636e-03   5.61064034e-03   0.00000000e+00   0.00000000e+00\n      8.72195152e-03   1.47614365e-02]]\n\n  [[  0.00000000e+00   0.00000000e+00   0.00000000e+00   0.00000000e+00\n      1.37882688e-02   2.89165611e-03]\n   [  0.00000000e+00   0.00000000e+00   0.00000000e+00   0.00000000e+00\n      6.41843282e-02   3.30528301e-02]\n   [  0.00000000e+00   0.00000000e+00   0.00000000e+00   0.00000000e+00\n      0.00000000e+00   0.00000000e+00]\n   [  0.00000000e+00   0.00000000e+00   0.00000000e+00   0.00000000e+00\n      0.00000000e+00   0.00000000e+00]\n   [  1.37882688e-02   6.41843282e-02   0.00000000e+00   0.00000000e+00\n      0.00000000e+00   5.05803326e-02]\n   [  2.89165611e-03   3.30528301e-02   0.00000000e+00   0.00000000e+00\n      5.05803326e-02   1.04756020e-01]]\n\n  [[  0.00000000e+00   0.00000000e+00   0.00000000e+00   0.00000000e+00\n      0.00000000e+00   0.00000000e+00]\n   [  0.00000000e+00   0.00000000e+00   0.00000000e+00   0.00000000e+00\n      0.00000000e+00   0.00000000e+00]\n   [  0.00000000e+00   0.00000000e+00   0.00000000e+00   0.00000000e+00\n      1.68691394e-02   5.18541969e-03]\n   [  0.00000000e+00   0.00000000e+00   0.00000000e+00   0.00000000e+00\n      0.00000000e+00   0.00000000e+00]\n   [  0.00000000e+00   0.00000000e+00   1.68691394e-02   0.00000000e+00\n      0.00000000e+00   0.00000000e+00]\n   [  0.00000000e+00   0.00000000e+00   5.18541969e-03   0.00000000e+00\n      0.00000000e+00   0.00000000e+00]]\n\n  [[  0.00000000e+00   0.00000000e+00   0.00000000e+00   0.00000000e+00\n      0.00000000e+00   0.00000000e+00]\n   [  0.00000000e+00   0.00000000e+00   0.00000000e+00   0.00000000e+00\n      0.00000000e+00   0.00000000e+00]\n   [  0.00000000e+00   0.00000000e+00   0.00000000e+00   0.00000000e+00\n      0.00000000e+00   0.00000000e+00]\n   [  0.00000000e+00   0.00000000e+00   0.00000000e+00   0.00000000e+00\n      1.68691394e-02   5.18541969e-03]\n   [  0.00000000e+00   0.00000000e+00   0.00000000e+00   1.68691394e-02\n      0.00000000e+00   0.00000000e+00]\n   [  0.00000000e+00   0.00000000e+00   0.00000000e+00   5.18541969e-03\n      0.00000000e+00   0.00000000e+00]]\n\n  [[  3.96639641e-01   9.28803966e-02   0.00000000e+00   0.00000000e+00\n      0.00000000e+00   2.44619671e-02]\n   [  9.28803966e-02   2.90496975e-01   0.00000000e+00   0.00000000e+00\n      0.00000000e+00   1.23834010e-01]\n   [  0.00000000e+00   0.00000000e+00   2.79207231e-01   0.00000000e+00\n      0.00000000e+00   0.00000000e+00]\n   [  0.00000000e+00   0.00000000e+00   0.00000000e+00   2.79207231e-01\n      0.00000000e+00   0.00000000e+00]\n   [  0.00000000e+00   0.00000000e+00   0.00000000e+00   0.00000000e+00\n      3.12945510e-01   1.63177308e-01]\n   [  2.44619671e-02   1.23834010e-01   0.00000000e+00   0.00000000e+00\n      1.63177308e-01   3.26218201e-01]]\n\n  [[  1.77730867e-01   4.23962450e-02   0.00000000e+00   0.00000000e+00\n      8.72195152e-03   1.33296474e-02]\n   [  4.23962450e-02   1.44016166e-01   0.00000000e+00   0.00000000e+00\n      5.05803326e-02   9.95709532e-02]\n   [  0.00000000e+00   0.00000000e+00   1.34348349e-01   0.00000000e+00\n      0.00000000e+00   0.00000000e+00]\n   [  0.00000000e+00   0.00000000e+00   0.00000000e+00   1.34348349e-01\n      0.00000000e+00   0.00000000e+00]\n   [  8.72195152e-03   5.05803326e-02   0.00000000e+00   0.00000000e+00\n      1.63177308e-01   1.41995363e-01]\n   [  1.33296474e-02   9.95709532e-02   0.00000000e+00   0.00000000e+00\n      1.41995363e-01   3.17406555e-01]]]]"
      },
      {
       "output_type": "stream",
       "stream": "stdout",
       "text": "\n"
      },
      {
       "output_type": "pyout",
       "prompt_number": 35,
       "text": "[-3.1596039710068511,\n -7.8207331845299244,\n -7.8597189212209964,\n -7.8606098325514955,\n -7.860713927416132,\n -7.8607399825987567]"
      }
     ],
     "prompt_number": 35
    },
    {
     "cell_type": "code",
     "collapsed": false,
     "input": "from pyquante2 import molecule,h2o,basisset,rhf\nfrom pyquante2.ints.integrals import onee_integrals,twoe_integrals\nfrom pyquante2.utils import dmat,trace2,geigh\n\nbfs = basisset(h2o,'sto3g')\n\ni1 = onee_integrals(bfs,h2o)\ni2 = twoe_integrals(bfs)\nprint \"S = \\n\",i1.S\nprint \"h = \\n\",i1.T + i1.V\nprint \"I2 = \\n\",i2._2e_ints[:5]\ns = rhf(h2o,bfs)\ns.converge()",
     "language": "python",
     "metadata": {},
     "outputs": [
      {
       "output_type": "stream",
       "stream": "stdout",
       "text": "S = \n[[  1.00000000e+00   2.36703937e-01   0.00000000e+00   0.00000000e+00\n   -4.36556721e-18   5.58187997e-02   5.58187997e-02]\n [  2.36703937e-01   1.00000000e+00   0.00000000e+00   0.00000000e+00\n    0.00000000e+00   4.84136727e-01   4.84136727e-01]\n [  0.00000000e+00   0.00000000e+00   1.00000000e+00   0.00000000e+00\n    0.00000000e+00   3.18050818e-01  -3.18050818e-01]\n [  0.00000000e+00   0.00000000e+00   0.00000000e+00   1.00000000e+00\n    0.00000000e+00   0.00000000e+00   0.00000000e+00]\n [ -4.36556721e-18   0.00000000e+00   0.00000000e+00   0.00000000e+00\n    1.00000000e+00  -2.39805302e-01  -2.39805302e-01]\n [  5.58187997e-02   4.84136727e-01   3.18050818e-01   0.00000000e+00\n   -2.39805302e-01   1.00000000e+00   2.54589471e-01]\n [  5.58187997e-02   4.84136727e-01  -3.18050818e-01   0.00000000e+00\n   -2.39805302e-01   2.54589471e-01   1.00000000e+00]]\nh = \n[[ -3.27375212e+01  -7.61673524e+00   0.00000000e+00   0.00000000e+00\n    1.92565169e-02  -1.81003520e+00  -1.81003520e+00]\n [ -7.61673524e+00  -9.34981821e+00   0.00000000e+00   0.00000000e+00\n    2.25274817e-01  -3.83199371e+00  -3.83199371e+00]\n [  0.00000000e+00   0.00000000e+00  -7.63461683e+00   0.00000000e+00\n    0.00000000e+00  -2.08478101e+00   2.08478101e+00]\n [  0.00000000e+00   0.00000000e+00   0.00000000e+00  -7.46989864e+00\n    0.00000000e+00   0.00000000e+00   0.00000000e+00]\n [  1.92565169e-02   2.25274817e-01   0.00000000e+00   0.00000000e+00\n   -7.56353965e+00   1.64579197e+00   1.64579197e+00]\n [ -1.81003520e+00  -3.83199371e+00  -2.08478101e+00   0.00000000e+00\n    1.64579197e+00  -5.13311455e+00  -1.64478037e+00]\n [ -1.81003520e+00  -3.83199371e+00   2.08478101e+00   0.00000000e+00\n    1.64579197e+00  -1.64478037e+00  -5.13311455e+00]]\nI2 = \n[[[[  4.78506539e+00   7.41380350e-01   0.00000000e+00 ...,\n     -1.09317641e-17   1.77733105e-01   1.77733105e-01]\n   [  7.41380350e-01   1.11894686e+00   0.00000000e+00 ...,\n     -2.97941395e-18   4.13579000e-01   4.13579000e-01]\n   [  0.00000000e+00   0.00000000e+00   1.11581381e+00 ...,\n      0.00000000e+00   2.31295029e-01  -2.31295029e-01]\n   ..., \n   [ -1.09317641e-17  -2.97941395e-18   0.00000000e+00 ...,\n      1.11581381e+00  -1.74392806e-01  -1.74392806e-01]\n   [  1.77733105e-01   4.13579000e-01   2.31295029e-01 ...,\n     -1.74392806e-01   5.38762938e-01   1.64766439e-01]\n   [  1.77733105e-01   4.13579000e-01  -2.31295029e-01 ...,\n     -1.74392806e-01   1.64766439e-01   5.38762938e-01]]\n\n  [[  7.41380350e-01   1.36873385e-01   0.00000000e+00 ...,\n     -3.29465902e-18   3.25165492e-02   3.25165492e-02]\n   [  1.36873385e-01   2.56633394e-01   0.00000000e+00 ...,\n     -5.73294162e-19   9.59611007e-02   9.59611007e-02]\n   [  0.00000000e+00   0.00000000e+00   2.56683985e-01 ...,\n      0.00000000e+00   5.43844411e-02  -5.43844411e-02]\n   ..., \n   [ -3.29465902e-18  -5.73294162e-19   0.00000000e+00 ...,\n      2.56683985e-01  -4.10050112e-02  -4.10050112e-02]\n   [  3.25165492e-02   9.59611007e-02   5.43844411e-02 ...,\n     -4.10050112e-02   1.27038426e-01   3.85534447e-02]\n   [  3.25165492e-02   9.59611007e-02  -5.43844411e-02 ...,\n     -4.10050112e-02   3.85534447e-02   1.27038426e-01]]\n\n  [[  0.00000000e+00   0.00000000e+00   2.44774121e-02 ...,\n      0.00000000e+00   1.19158318e-03  -1.19158318e-03]\n   [  0.00000000e+00   0.00000000e+00   3.78086072e-02 ...,\n      0.00000000e+00   5.72000216e-03  -5.72000216e-03]\n   [  2.44774121e-02   3.78086072e-02   0.00000000e+00 ...,\n     -3.36278574e-19   1.31229075e-02   1.31229075e-02]\n   ..., \n   [  0.00000000e+00   0.00000000e+00  -3.36278574e-19 ...,\n      0.00000000e+00  -2.15397470e-03   2.15397470e-03]\n   [  1.19158318e-03   5.72000216e-03   1.31229075e-02 ...,\n     -2.15397470e-03   1.02011735e-02   6.77626358e-21]\n   [ -1.19158318e-03  -5.72000216e-03   1.31229075e-02 ...,\n      2.15397470e-03   6.77626358e-21  -1.02011735e-02]]\n\n  ..., \n  [[ -1.09317641e-17  -3.29465902e-18   0.00000000e+00 ...,\n      2.44774121e-02  -8.98434932e-04  -8.98434932e-04]\n   [ -3.29465902e-18  -5.19621701e-18   0.00000000e+00 ...,\n      3.78086072e-02  -4.31279145e-03  -4.31279145e-03]\n   [  0.00000000e+00   0.00000000e+00  -5.22260861e-18 ...,\n      0.00000000e+00  -2.15397470e-03   2.15397470e-03]\n   ..., \n   [  2.44774121e-02   3.78086072e-02   0.00000000e+00 ...,\n     -5.89516576e-18   1.18901803e-02   1.18901803e-02]\n   [ -8.98434932e-04  -4.31279145e-03  -2.15397470e-03 ...,\n      1.18901803e-02  -7.69152401e-03  -2.77201102e-03]\n   [ -8.98434932e-04  -4.31279145e-03   2.15397470e-03 ...,\n      1.18901803e-02  -2.77201102e-03  -7.69152401e-03]]\n\n  [[  1.77733105e-01   3.25165492e-02   1.19158318e-03 ...,\n     -8.98434932e-04   7.82466264e-03   7.70178443e-03]\n   [  3.25165492e-02   6.05107138e-02   2.22268203e-03 ...,\n     -1.67586721e-03   2.32041931e-02   2.24675658e-02]\n   [  1.19158318e-03   2.22268203e-03   6.06194552e-02 ...,\n     -1.67895211e-04   1.37576874e-02  -1.21261199e-02]\n   ..., \n   [ -8.98434932e-04  -1.67586721e-03  -1.67895211e-04 ...,\n      6.05233682e-02  -1.03730794e-02  -1.00494912e-02]\n   [  7.82466264e-03   2.32041931e-02   1.37576874e-02 ...,\n     -1.03730794e-02   3.10267308e-02   9.22400692e-03]\n   [  7.70178443e-03   2.24675658e-02  -1.21261199e-02 ...,\n     -1.00494912e-02   9.22400692e-03   2.96592475e-02]]\n\n  [[  1.77733105e-01   3.25165492e-02  -1.19158318e-03 ...,\n     -8.98434932e-04   7.70178443e-03   7.82466264e-03]\n   [  3.25165492e-02   6.05107138e-02  -2.22268203e-03 ...,\n     -1.67586721e-03   2.24675658e-02   2.32041931e-02]\n   [ -1.19158318e-03  -2.22268203e-03   6.06194552e-02 ...,\n      1.67895211e-04   1.21261199e-02  -1.37576874e-02]\n   ..., \n   [ -8.98434932e-04  -1.67586721e-03   1.67895211e-04 ...,\n      6.05233682e-02  -1.00494912e-02  -1.03730794e-02]\n   [  7.70178443e-03   2.24675658e-02   1.21261199e-02 ...,\n     -1.00494912e-02   2.96592475e-02   9.22400692e-03]\n   [  7.82466264e-03   2.32041931e-02  -1.37576874e-02 ...,\n     -1.03730794e-02   9.22400692e-03   3.10267308e-02]]]\n\n\n [[[  7.41380350e-01   1.36873385e-01   0.00000000e+00 ...,\n     -3.29465902e-18   3.25165492e-02   3.25165492e-02]\n   [  1.36873385e-01   2.56633394e-01   0.00000000e+00 ...,\n     -5.73294162e-19   9.59611007e-02   9.59611007e-02]\n   [  0.00000000e+00   0.00000000e+00   2.56683985e-01 ...,\n      0.00000000e+00   5.43844411e-02  -5.43844411e-02]\n   ..., \n   [ -3.29465902e-18  -5.73294162e-19   0.00000000e+00 ...,\n      2.56683985e-01  -4.10050112e-02  -4.10050112e-02]\n   [  3.25165492e-02   9.59611007e-02   5.43844411e-02 ...,\n     -4.10050112e-02   1.27038426e-01   3.85534447e-02]\n   [  3.25165492e-02   9.59611007e-02  -5.43844411e-02 ...,\n     -4.10050112e-02   3.85534447e-02   1.27038426e-01]]\n\n  [[  1.11894686e+00   2.56633394e-01   0.00000000e+00 ...,\n     -5.19621701e-18   6.05107138e-02   6.05107138e-02]\n   [  2.56633394e-01   8.17206319e-01   0.00000000e+00 ...,\n     -2.38435084e-18   3.36126862e-01   3.36126862e-01]\n   [  0.00000000e+00   0.00000000e+00   8.17022603e-01 ...,\n      0.00000000e+00   2.03480113e-01  -2.03480113e-01]\n   ..., \n   [ -5.19621701e-18  -2.38435084e-18   0.00000000e+00 ...,\n      8.17022603e-01  -1.53420797e-01  -1.53420797e-01]\n   [  6.05107138e-02   3.36126862e-01   2.03480113e-01 ...,\n     -1.53420797e-01   5.08392632e-01   1.45628156e-01]\n   [  6.05107138e-02   3.36126862e-01  -2.03480113e-01 ...,\n     -1.53420797e-01   1.45628156e-01   5.08392632e-01]]\n\n  [[  0.00000000e+00   0.00000000e+00   3.78086072e-02 ...,\n      0.00000000e+00   2.22268203e-03  -2.22268203e-03]\n   [  0.00000000e+00   0.00000000e+00   1.80518391e-01 ...,\n      0.00000000e+00   4.28953693e-02  -4.28953693e-02]\n   [  3.78086072e-02   1.80518391e-01   0.00000000e+00 ...,\n     -4.78751979e-19   8.36883904e-02   8.36883904e-02]\n   ..., \n   [  0.00000000e+00   0.00000000e+00  -4.78751979e-19 ...,\n      0.00000000e+00  -1.86629967e-02   1.86629967e-02]\n   [  2.22268203e-03   4.28953693e-02   8.36883904e-02 ...,\n     -1.86629967e-02   1.03864238e-01  -4.33680869e-19]\n   [ -2.22268203e-03  -4.28953693e-02   8.36883904e-02 ...,\n      1.86629967e-02  -4.33680869e-19  -1.03864238e-01]]\n\n  ..., \n  [[ -2.97941395e-18  -5.73294162e-19   0.00000000e+00 ...,\n      3.78086072e-02  -1.67586721e-03  -1.67586721e-03]\n   [ -5.73294162e-19  -2.38435084e-18   0.00000000e+00 ...,\n      1.80518391e-01  -3.23424322e-02  -3.23424322e-02]\n   [  0.00000000e+00   0.00000000e+00  -1.21542565e-18 ...,\n      0.00000000e+00  -1.86629967e-02   1.86629967e-02]\n   ..., \n   [  3.78086072e-02   1.80518391e-01   0.00000000e+00 ...,\n     -2.17292961e-18   7.30074931e-02   7.30074931e-02]\n   [ -1.67586721e-03  -3.23424322e-02  -1.86629967e-02 ...,\n      7.30074931e-02  -7.83119979e-02  -2.43052691e-02]\n   [ -1.67586721e-03  -3.23424322e-02   1.86629967e-02 ...,\n      7.30074931e-02  -2.43052691e-02  -7.83119979e-02]]\n\n  [[  4.13579000e-01   9.59611007e-02   5.72000216e-03 ...,\n     -4.31279145e-03   2.32041931e-02   2.24675658e-02]\n   [  9.59611007e-02   3.36126862e-01   4.28953693e-02 ...,\n     -3.23424322e-02   1.68271813e-01   1.37634766e-01]\n   [  5.72000216e-03   4.28953693e-02   3.40989193e-01 ...,\n     -7.84754695e-03   1.23734852e-01  -6.94473081e-02]\n   ..., \n   [ -4.31279145e-03  -3.23424322e-02  -7.84754695e-03 ...,\n      3.36498015e-01  -9.32941280e-02  -7.42124336e-02]\n   [  2.32041931e-02   1.68271813e-01   1.23734852e-01 ...,\n     -9.32941280e-02   3.14059122e-01   7.16787171e-02]\n   [  2.24675658e-02   1.37634766e-01  -6.94473081e-02 ...,\n     -7.42124336e-02   7.16787171e-02   2.12655417e-01]]\n\n  [[  4.13579000e-01   9.59611007e-02  -5.72000216e-03 ...,\n     -4.31279145e-03   2.24675658e-02   2.32041931e-02]\n   [  9.59611007e-02   3.36126862e-01  -4.28953693e-02 ...,\n     -3.23424322e-02   1.37634766e-01   1.68271813e-01]\n   [ -5.72000216e-03  -4.28953693e-02   3.40989193e-01 ...,\n      7.84754695e-03   6.94473081e-02  -1.23734852e-01]\n   ..., \n   [ -4.31279145e-03  -3.23424322e-02   7.84754695e-03 ...,\n      3.36498015e-01  -7.42124336e-02  -9.32941280e-02]\n   [  2.24675658e-02   1.37634766e-01   6.94473081e-02 ...,\n     -7.42124336e-02   2.12655417e-01   7.16787171e-02]\n   [  2.32041931e-02   1.68271813e-01  -1.23734852e-01 ...,\n     -9.32941280e-02   7.16787171e-02   3.14059122e-01]]]\n\n\n [[[  0.00000000e+00   0.00000000e+00   2.44774121e-02 ...,\n      0.00000000e+00   1.19158318e-03  -1.19158318e-03]\n   [  0.00000000e+00   0.00000000e+00   3.78086072e-02 ...,\n      0.00000000e+00   5.72000216e-03  -5.72000216e-03]\n   [  2.44774121e-02   3.78086072e-02   0.00000000e+00 ...,\n     -3.36278574e-19   1.31229075e-02   1.31229075e-02]\n   ..., \n   [  0.00000000e+00   0.00000000e+00  -3.36278574e-19 ...,\n      0.00000000e+00  -2.15397470e-03   2.15397470e-03]\n   [  1.19158318e-03   5.72000216e-03   1.31229075e-02 ...,\n     -2.15397470e-03   1.02011735e-02   6.77626358e-21]\n   [ -1.19158318e-03  -5.72000216e-03   1.31229075e-02 ...,\n      2.15397470e-03   6.77626358e-21  -1.02011735e-02]]\n\n  [[  0.00000000e+00   0.00000000e+00   3.78086072e-02 ...,\n      0.00000000e+00   2.22268203e-03  -2.22268203e-03]\n   [  0.00000000e+00   0.00000000e+00   1.80518391e-01 ...,\n      0.00000000e+00   4.28953693e-02  -4.28953693e-02]\n   [  3.78086072e-02   1.80518391e-01   0.00000000e+00 ...,\n     -4.78751979e-19   8.36883904e-02   8.36883904e-02]\n   ..., \n   [  0.00000000e+00   0.00000000e+00  -4.78751979e-19 ...,\n      0.00000000e+00  -1.86629967e-02   1.86629967e-02]\n   [  2.22268203e-03   4.28953693e-02   8.36883904e-02 ...,\n     -1.86629967e-02   1.03864238e-01  -4.33680869e-19]\n   [ -2.22268203e-03  -4.28953693e-02   8.36883904e-02 ...,\n      1.86629967e-02  -4.33680869e-19  -1.03864238e-01]]\n\n  [[  1.11581381e+00   2.56683985e-01   0.00000000e+00 ...,\n     -5.22260861e-18   6.06194552e-02   6.06194552e-02]\n   [  2.56683985e-01   8.17022603e-01   0.00000000e+00 ...,\n     -1.21542565e-18   3.40989193e-01   3.40989193e-01]\n   [  0.00000000e+00   0.00000000e+00   8.80159091e-01 ...,\n      0.00000000e+00   2.18379651e-01  -2.18379651e-01]\n   ..., \n   [ -5.22260861e-18  -1.21542565e-18   0.00000000e+00 ...,\n      7.85270201e-01  -1.51065162e-01  -1.51065162e-01]\n   [  6.06194552e-02   3.40989193e-01   2.18379651e-01 ...,\n     -1.51065162e-01   5.26915942e-01   1.45284425e-01]\n   [  6.06194552e-02   3.40989193e-01  -2.18379651e-01 ...,\n     -1.51065162e-01   1.45284425e-01   5.26915942e-01]]\n\n  ..., \n  [[  0.00000000e+00   0.00000000e+00  -3.36278574e-19 ...,\n      0.00000000e+00  -1.67895211e-04   1.67895211e-04]\n   [  0.00000000e+00   0.00000000e+00  -4.78751979e-19 ...,\n      0.00000000e+00  -7.84754695e-03   7.84754695e-03]\n   [ -3.36278574e-19  -4.78751979e-19   0.00000000e+00 ...,\n      4.74444448e-02  -1.14686513e-02  -1.14686513e-02]\n   ..., \n   [  0.00000000e+00   0.00000000e+00   4.74444448e-02 ...,\n      0.00000000e+00   1.25358845e-02  -1.25358845e-02]\n   [ -1.67895211e-04  -7.84754695e-03  -1.14686513e-02 ...,\n      1.25358845e-02  -2.95928282e-02  -1.08420217e-19]\n   [  1.67895211e-04   7.84754695e-03  -1.14686513e-02 ...,\n     -1.25358845e-02  -1.08420217e-19   2.95928282e-02]]\n\n  [[  2.31295029e-01   5.43844411e-02   1.31229075e-02 ...,\n     -2.15397470e-03   1.37576874e-02   1.21261199e-02]\n   [  5.43844411e-02   2.03480113e-01   8.36883904e-02 ...,\n     -1.86629967e-02   1.23734852e-01   6.94473081e-02]\n   [  1.31229075e-02   8.36883904e-02   2.18379651e-01 ...,\n     -1.14686513e-02   1.14555834e-01  -1.59980511e-02]\n   ..., \n   [ -2.15397470e-03  -1.86629967e-02  -1.14686513e-02 ...,\n      1.97681017e-01  -6.78492639e-02  -3.65604761e-02]\n   [  1.37576874e-02   1.23734852e-01   1.14555834e-01 ...,\n     -6.78492639e-02   2.63890558e-01   4.53601710e-02]\n   [  1.21261199e-02   6.94473081e-02  -1.59980511e-02 ...,\n     -3.65604761e-02   4.53601710e-02   9.39252241e-02]]\n\n  [[ -2.31295029e-01  -5.43844411e-02   1.31229075e-02 ...,\n      2.15397470e-03  -1.21261199e-02  -1.37576874e-02]\n   [ -5.43844411e-02  -2.03480113e-01   8.36883904e-02 ...,\n      1.86629967e-02  -6.94473081e-02  -1.23734852e-01]\n   [  1.31229075e-02   8.36883904e-02  -2.18379651e-01 ...,\n     -1.14686513e-02  -1.59980511e-02   1.14555834e-01]\n   ..., \n   [  2.15397470e-03   1.86629967e-02  -1.14686513e-02 ...,\n     -1.97681017e-01   3.65604761e-02   6.78492639e-02]\n   [ -1.21261199e-02  -6.94473081e-02  -1.59980511e-02 ...,\n      3.65604761e-02  -9.39252241e-02  -4.53601710e-02]\n   [ -1.37576874e-02  -1.23734852e-01   1.14555834e-01 ...,\n      6.78492639e-02  -4.53601710e-02  -2.63890558e-01]]]\n\n\n [[[  0.00000000e+00   0.00000000e+00   0.00000000e+00 ...,\n      0.00000000e+00   0.00000000e+00   0.00000000e+00]\n   [  0.00000000e+00   0.00000000e+00   0.00000000e+00 ...,\n      0.00000000e+00   0.00000000e+00   0.00000000e+00]\n   [  0.00000000e+00   0.00000000e+00   0.00000000e+00 ...,\n      0.00000000e+00   0.00000000e+00   0.00000000e+00]\n   ..., \n   [  0.00000000e+00   0.00000000e+00   0.00000000e+00 ...,\n      0.00000000e+00   0.00000000e+00   0.00000000e+00]\n   [  0.00000000e+00   0.00000000e+00   0.00000000e+00 ...,\n      0.00000000e+00   0.00000000e+00   0.00000000e+00]\n   [  0.00000000e+00   0.00000000e+00   0.00000000e+00 ...,\n      0.00000000e+00   0.00000000e+00   0.00000000e+00]]\n\n  [[  0.00000000e+00   0.00000000e+00   0.00000000e+00 ...,\n      0.00000000e+00   0.00000000e+00   0.00000000e+00]\n   [  0.00000000e+00   0.00000000e+00   0.00000000e+00 ...,\n      0.00000000e+00   0.00000000e+00   0.00000000e+00]\n   [  0.00000000e+00   0.00000000e+00   0.00000000e+00 ...,\n      0.00000000e+00   0.00000000e+00   0.00000000e+00]\n   ..., \n   [  0.00000000e+00   0.00000000e+00   0.00000000e+00 ...,\n      0.00000000e+00   0.00000000e+00   0.00000000e+00]\n   [  0.00000000e+00   0.00000000e+00   0.00000000e+00 ...,\n      0.00000000e+00   0.00000000e+00   0.00000000e+00]\n   [  0.00000000e+00   0.00000000e+00   0.00000000e+00 ...,\n      0.00000000e+00   0.00000000e+00   0.00000000e+00]]\n\n  [[  0.00000000e+00   0.00000000e+00   0.00000000e+00 ...,\n      0.00000000e+00   0.00000000e+00   0.00000000e+00]\n   [  0.00000000e+00   0.00000000e+00   0.00000000e+00 ...,\n      0.00000000e+00   0.00000000e+00   0.00000000e+00]\n   [  0.00000000e+00   0.00000000e+00   0.00000000e+00 ...,\n      0.00000000e+00   0.00000000e+00   0.00000000e+00]\n   ..., \n   [  0.00000000e+00   0.00000000e+00   0.00000000e+00 ...,\n      0.00000000e+00   0.00000000e+00   0.00000000e+00]\n   [  0.00000000e+00   0.00000000e+00   0.00000000e+00 ...,\n      0.00000000e+00   0.00000000e+00   0.00000000e+00]\n   [  0.00000000e+00   0.00000000e+00   0.00000000e+00 ...,\n      0.00000000e+00   0.00000000e+00   0.00000000e+00]]\n\n  ..., \n  [[  0.00000000e+00   0.00000000e+00   0.00000000e+00 ...,\n      0.00000000e+00   0.00000000e+00   0.00000000e+00]\n   [  0.00000000e+00   0.00000000e+00   0.00000000e+00 ...,\n      0.00000000e+00   0.00000000e+00   0.00000000e+00]\n   [  0.00000000e+00   0.00000000e+00   0.00000000e+00 ...,\n      0.00000000e+00   0.00000000e+00   0.00000000e+00]\n   ..., \n   [  0.00000000e+00   0.00000000e+00   0.00000000e+00 ...,\n      0.00000000e+00   0.00000000e+00   0.00000000e+00]\n   [  0.00000000e+00   0.00000000e+00   0.00000000e+00 ...,\n      0.00000000e+00   0.00000000e+00   0.00000000e+00]\n   [  0.00000000e+00   0.00000000e+00   0.00000000e+00 ...,\n      0.00000000e+00   0.00000000e+00   0.00000000e+00]]\n\n  [[  0.00000000e+00   0.00000000e+00   0.00000000e+00 ...,\n      0.00000000e+00   0.00000000e+00   0.00000000e+00]\n   [  0.00000000e+00   0.00000000e+00   0.00000000e+00 ...,\n      0.00000000e+00   0.00000000e+00   0.00000000e+00]\n   [  0.00000000e+00   0.00000000e+00   0.00000000e+00 ...,\n      0.00000000e+00   0.00000000e+00   0.00000000e+00]\n   ..., \n   [  0.00000000e+00   0.00000000e+00   0.00000000e+00 ...,\n      0.00000000e+00   0.00000000e+00   0.00000000e+00]\n   [  0.00000000e+00   0.00000000e+00   0.00000000e+00 ...,\n      0.00000000e+00   0.00000000e+00   0.00000000e+00]\n   [  0.00000000e+00   0.00000000e+00   0.00000000e+00 ...,\n      0.00000000e+00   0.00000000e+00   0.00000000e+00]]\n\n  [[  0.00000000e+00   0.00000000e+00   0.00000000e+00 ...,\n      0.00000000e+00   0.00000000e+00   0.00000000e+00]\n   [  0.00000000e+00   0.00000000e+00   0.00000000e+00 ...,\n      0.00000000e+00   0.00000000e+00   0.00000000e+00]\n   [  0.00000000e+00   0.00000000e+00   0.00000000e+00 ...,\n      0.00000000e+00   0.00000000e+00   0.00000000e+00]\n   ..., \n   [  0.00000000e+00   0.00000000e+00   0.00000000e+00 ...,\n      0.00000000e+00   0.00000000e+00   0.00000000e+00]\n   [  0.00000000e+00   0.00000000e+00   0.00000000e+00 ...,\n      0.00000000e+00   0.00000000e+00   0.00000000e+00]\n   [  0.00000000e+00   0.00000000e+00   0.00000000e+00 ...,\n      0.00000000e+00   0.00000000e+00   0.00000000e+00]]]\n\n\n [[[ -1.09317641e-17  -3.29465902e-18   0.00000000e+00 ...,\n      2.44774121e-02  -8.98434932e-04  -8.98434932e-04]\n   [ -3.29465902e-18  -5.19621701e-18   0.00000000e+00 ...,\n      3.78086072e-02  -4.31279145e-03  -4.31279145e-03]\n   [  0.00000000e+00   0.00000000e+00  -5.22260861e-18 ...,\n      0.00000000e+00  -2.15397470e-03   2.15397470e-03]\n   ..., \n   [  2.44774121e-02   3.78086072e-02   0.00000000e+00 ...,\n     -5.89516576e-18   1.18901803e-02   1.18901803e-02]\n   [ -8.98434932e-04  -4.31279145e-03  -2.15397470e-03 ...,\n      1.18901803e-02  -7.69152401e-03  -2.77201102e-03]\n   [ -8.98434932e-04  -4.31279145e-03   2.15397470e-03 ...,\n      1.18901803e-02  -2.77201102e-03  -7.69152401e-03]]\n\n  [[ -2.97941395e-18  -5.73294162e-19   0.00000000e+00 ...,\n      3.78086072e-02  -1.67586721e-03  -1.67586721e-03]\n   [ -5.73294162e-19  -2.38435084e-18   0.00000000e+00 ...,\n      1.80518391e-01  -3.23424322e-02  -3.23424322e-02]\n   [  0.00000000e+00   0.00000000e+00  -1.21542565e-18 ...,\n      0.00000000e+00  -1.86629967e-02   1.86629967e-02]\n   ..., \n   [  3.78086072e-02   1.80518391e-01   0.00000000e+00 ...,\n     -2.17292961e-18   7.30074931e-02   7.30074931e-02]\n   [ -1.67586721e-03  -3.23424322e-02  -1.86629967e-02 ...,\n      7.30074931e-02  -7.83119979e-02  -2.43052691e-02]\n   [ -1.67586721e-03  -3.23424322e-02   1.86629967e-02 ...,\n      7.30074931e-02  -2.43052691e-02  -7.83119979e-02]]\n\n  [[  0.00000000e+00   0.00000000e+00  -3.36278574e-19 ...,\n      0.00000000e+00  -1.67895211e-04   1.67895211e-04]\n   [  0.00000000e+00   0.00000000e+00  -4.78751979e-19 ...,\n      0.00000000e+00  -7.84754695e-03   7.84754695e-03]\n   [ -3.36278574e-19  -4.78751979e-19   0.00000000e+00 ...,\n      4.74444448e-02  -1.14686513e-02  -1.14686513e-02]\n   ..., \n   [  0.00000000e+00   0.00000000e+00   4.74444448e-02 ...,\n      0.00000000e+00   1.25358845e-02  -1.25358845e-02]\n   [ -1.67895211e-04  -7.84754695e-03  -1.14686513e-02 ...,\n      1.25358845e-02  -2.95928282e-02  -1.08420217e-19]\n   [  1.67895211e-04   7.84754695e-03  -1.14686513e-02 ...,\n     -1.25358845e-02  -1.08420217e-19   2.95928282e-02]]\n\n  ..., \n  [[  1.11581381e+00   2.56683985e-01   0.00000000e+00 ...,\n     -5.89516576e-18   6.05233682e-02   6.05233682e-02]\n   [  2.56683985e-01   8.17022603e-01   0.00000000e+00 ...,\n     -2.17292961e-18   3.36498015e-01   3.36498015e-01]\n   [  0.00000000e+00   0.00000000e+00   7.85270201e-01 ...,\n      0.00000000e+00   1.97681017e-01  -1.97681017e-01]\n   ..., \n   [ -5.89516576e-18  -2.17292961e-18   0.00000000e+00 ...,\n      8.80159091e-01  -1.62638022e-01  -1.62638022e-01]\n   [  6.05233682e-02   3.36498015e-01   1.97681017e-01 ...,\n     -1.62638022e-01   5.09979865e-01   1.49079118e-01]\n   [  6.05233682e-02   3.36498015e-01  -1.97681017e-01 ...,\n     -1.62638022e-01   1.49079118e-01   5.09979865e-01]]\n\n  [[ -1.74392806e-01  -4.10050112e-02  -2.15397470e-03 ...,\n      1.18901803e-02  -1.03730794e-02  -1.00494912e-02]\n   [ -4.10050112e-02  -1.53420797e-01  -1.86629967e-02 ...,\n      7.30074931e-02  -9.32941280e-02  -7.42124336e-02]\n   [ -2.15397470e-03  -1.86629967e-02  -1.51065162e-01 ...,\n      1.25358845e-02  -6.78492639e-02   3.65604761e-02]\n   ..., \n   [  1.18901803e-02   7.30074931e-02   1.25358845e-02 ...,\n     -1.62638022e-01   7.57254664e-02   5.88677920e-02]\n   [ -1.03730794e-02  -9.32941280e-02  -6.78492639e-02 ...,\n      7.57254664e-02  -1.98969320e-01  -4.46735990e-02]\n   [ -1.00494912e-02  -7.42124336e-02   3.65604761e-02 ...,\n      5.88677920e-02  -4.46735990e-02  -1.25906109e-01]]\n\n  [[ -1.74392806e-01  -4.10050112e-02   2.15397470e-03 ...,\n      1.18901803e-02  -1.00494912e-02  -1.03730794e-02]\n   [ -4.10050112e-02  -1.53420797e-01   1.86629967e-02 ...,\n      7.30074931e-02  -7.42124336e-02  -9.32941280e-02]\n   [  2.15397470e-03   1.86629967e-02  -1.51065162e-01 ...,\n     -1.25358845e-02  -3.65604761e-02   6.78492639e-02]\n   ..., \n   [  1.18901803e-02   7.30074931e-02  -1.25358845e-02 ...,\n     -1.62638022e-01   5.88677920e-02   7.57254664e-02]\n   [ -1.00494912e-02  -7.42124336e-02  -3.65604761e-02 ...,\n      5.88677920e-02  -1.25906109e-01  -4.46735990e-02]\n   [ -1.03730794e-02  -9.32941280e-02   6.78492639e-02 ...,\n      7.57254664e-02  -4.46735990e-02  -1.98969320e-01]]]]"
      },
      {
       "output_type": "stream",
       "stream": "stdout",
       "text": "\n"
      },
      {
       "output_type": "pyout",
       "prompt_number": 36,
       "text": "[-65.138374025697487,\n -74.467494698388464,\n -74.958013783771676,\n -74.959757388633875,\n -74.959839790498989,\n -74.959853191419228]"
      }
     ],
     "prompt_number": 36
    },
    {
     "cell_type": "code",
     "collapsed": false,
     "input": "from pyquante2 import h2o,basisset,rhf\nfrom pyquante2.utils import dmat\nfrom pyquante2.ints.integrals import twoe_integrals,twoe_integrals_compressed\nbfs = basisset(h2o,'sto3g')\nsolver = rhf(h2o,bfs)\nsolver.converge()\nD = dmat(solver.orbs,h2o.nocc())\ni2 = twoe_integrals(bfs)\ni2c = twoe_integrals_compressed(bfs)",
     "language": "python",
     "metadata": {},
     "outputs": [],
     "prompt_number": 37
    },
    {
     "cell_type": "code",
     "collapsed": false,
     "input": "%timeit twoe_integrals(bfs)",
     "language": "python",
     "metadata": {},
     "outputs": [
      {
       "output_type": "stream",
       "stream": "stdout",
       "text": "10 loops, best of 3: 193 ms per loop\n"
      }
     ],
     "prompt_number": 38
    },
    {
     "cell_type": "code",
     "collapsed": false,
     "input": "%timeit twoe_integrals_compressed(bfs)",
     "language": "python",
     "metadata": {},
     "outputs": [
      {
       "output_type": "stream",
       "stream": "stdout",
       "text": "10 loops, best of 3: 182 ms per loop\n"
      }
     ],
     "prompt_number": 39
    },
    {
     "cell_type": "code",
     "collapsed": false,
     "input": "%timeit i2.get_j(D)",
     "language": "python",
     "metadata": {},
     "outputs": [
      {
       "output_type": "stream",
       "stream": "stdout",
       "text": "100000 loops, best of 3: 10.1 us per loop\n"
      }
     ],
     "prompt_number": 40
    },
    {
     "cell_type": "code",
     "collapsed": false,
     "input": "%timeit i2c.get_j(D)",
     "language": "python",
     "metadata": {},
     "outputs": [
      {
       "output_type": "stream",
       "stream": "stdout",
       "text": "100 loops, best of 3: 4.86 ms per loop\n"
      }
     ],
     "prompt_number": 41
    },
    {
     "cell_type": "code",
     "collapsed": false,
     "input": "(i2.get_j(D)-i2c.get_j(D)).max()",
     "language": "python",
     "metadata": {},
     "outputs": [
      {
       "output_type": "pyout",
       "prompt_number": 42,
       "text": "2.2204460492503131e-16"
      }
     ],
     "prompt_number": "*"
    },
    {
     "cell_type": "markdown",
     "metadata": {},
     "source": "There are several significant results here:\n\n* The uncompressed integrals don't take any longer\n* The get_j() function is much faster.\n* The uncompressed ones are now"
    },
    {
     "cell_type": "code",
     "collapsed": false,
     "input": "from pyquante2 import h2o,basisset,rhf\nfrom pyquante2.utils import dmat\nfrom pyquante2.ints.integrals import twoe_integrals,twoe_integrals_compressed\nbfs = basisset(h2o,'6-31g**')\nsolver = rhf(h2o,bfs)\nsolver.converge()\nD = dmat(solver.orbs,h2o.nocc())\ni2 = twoe_integrals(bfs)\ni2c = twoe_integrals_compressed(bfs)",
     "language": "python",
     "metadata": {},
     "outputs": [],
     "prompt_number": "*"
    },
    {
     "cell_type": "code",
     "collapsed": false,
     "input": "",
     "language": "python",
     "metadata": {},
     "outputs": [],
     "prompt_number": "*"
    }
   ],
   "metadata": {}
  }
 ]
}